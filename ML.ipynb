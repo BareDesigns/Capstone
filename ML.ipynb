{
 "metadata": {
  "language_info": {
   "codemirror_mode": {
    "name": "ipython",
    "version": 3
   },
   "file_extension": ".py",
   "mimetype": "text/x-python",
   "name": "python",
   "nbconvert_exporter": "python",
   "pygments_lexer": "ipython3",
   "version": "3.9.1-final"
  },
  "orig_nbformat": 2,
  "kernelspec": {
   "name": "python3",
   "display_name": "Python 3.9.1 64-bit",
   "metadata": {
    "interpreter": {
     "hash": "aee8b7b246df8f9039afb4144a1f6fd8d2ca17a180786b69acc140d282b71a49"
    }
   }
  }
 },
 "nbformat": 4,
 "nbformat_minor": 2,
 "cells": [
  {
   "source": [
    "# Capstone Project\n",
    "This project will be to make a platform that will use machine learning to classify hand shapes that are used in ASL. \n",
    "\n",
    "Here are a few of the prerequisites required on your machine or virtual environment to get the projecy working:\n",
    "\n",
    "* Python 3.8+\n",
    "* Use PIP to install the following packages:\n",
    "    * sklearn\n",
    "    * PIL\n",
    "    * numpy\n",
    "    * imutils"
   ],
   "cell_type": "markdown",
   "metadata": {}
  },
  {
   "source": [
    "## Data and Structures\n",
    "\n",
    "The dataset used was downloaded from [Kaggle](https://www.kaggle.com/grassknoted/asl-alphabet).\n",
    "\n",
    "Once the images are saved and extracted, we put it in the following structure:\n",
    "\n",
    "```\n",
    "+-- Dataset\n",
    "|   +-- A\n",
    "|   +-- B\n",
    "|   +-- C\n",
    "|   +-- D\n",
    "|   +-- E\n",
    "|   +-- F\n",
    "|   +-- G\n",
    "|   +-- H\n",
    "|   +-- I\n",
    "|   +-- J\n",
    "|   +-- K\n",
    "|   +-- L\n",
    "|   +-- M\n",
    "|   +-- N\n",
    "|   +-- O\n",
    "|   +-- P\n",
    "|   +-- Q\n",
    "|   +-- R\n",
    "|   +-- S\n",
    "|   +-- T\n",
    "|   +-- U\n",
    "|   +-- V\n",
    "|   +-- W\n",
    "|   +-- X\n",
    "|   +-- Y\n",
    "|   +-- Z\n",
    "+-- Test\n",
    "|   +-- A_test.jpg\n",
    "|   +-- B_test.jpg\n",
    "|   +-- C_test.jpg\n",
    "|   +-- D_test.jpg\n",
    "|   +-- E_test.jpg\n",
    "|   +-- F_test.jpg\n",
    "|   +-- G_test.jpg\n",
    "|   +-- H_test.jpg\n",
    "|   +-- I_test.jpg\n",
    "|   +-- J_test.jpg\n",
    "|   +-- K_test.jpg\n",
    "|   +-- L_test.jpg\n",
    "|   +-- M_test.jpg\n",
    "|   +-- N_test.jpg\n",
    "|   +-- O_test.jpg\n",
    "|   +-- P_test.jpg\n",
    "|   +-- Q_test.jpg\n",
    "|   +-- R_test.jpg\n",
    "|   +-- S_test.jpg\n",
    "|   +-- T_test.jpg\n",
    "|   +-- U_test.jpg\n",
    "|   +-- V_test.jpg\n",
    "|   +-- W_test.jpg\n",
    "|   +-- X_test.jpg\n",
    "|   +-- Y_test.jpg\n",
    "|   +-- Z_test.jpg\n",
    "+-- ML.ipynb\n",
    "```"
   ],
   "cell_type": "markdown",
   "metadata": {}
  },
  {
   "source": [
    "## Importing the packages. \n",
    "\n",
    "The first thing we need to do, after installing, is to import the packages"
   ],
   "cell_type": "markdown",
   "metadata": {}
  },
  {
   "cell_type": "code",
   "execution_count": 9,
   "metadata": {},
   "outputs": [],
   "source": [
    "# import the necessary packages\n",
    "from sklearn.neighbors import KNeighborsClassifier as KNN\n",
    "from sklearn.ensemble import RandomForestClassifier as RFC\n",
    "from sklearn.preprocessing import LabelEncoder\n",
    "from sklearn.model_selection import train_test_split\n",
    "from sklearn.metrics import classification_report\n",
    "from PIL import Image\n",
    "from imutils import paths\n",
    "import numpy as np\n",
    "import os\n",
    "import pickle"
   ]
  },
  {
   "source": [
    "## Notes\n",
    "\n",
    "Because we are working with images, we need to split the image into its respective RGB color channels, and then create a feature vector with 6 values: *The mean and standard deviation for each of the 3 channels*."
   ],
   "cell_type": "markdown",
   "metadata": {}
  },
  {
   "cell_type": "code",
   "execution_count": 10,
   "metadata": {},
   "outputs": [],
   "source": [
    "# Function for changing the colorgrade\n",
    "def extract_color_statistics(image):\n",
    "    (R, G, B) = image.split()\n",
    "    features = [np.mean(R), np.mean(G), np.mean(B), np.std(R), np.std(G), np.std(B)]\n",
    "\n",
    "    return features"
   ]
  },
  {
   "source": [
    "## Variables and data/labels\n",
    "\n",
    "The cell below is where we will initialize our variables.\n",
    "\n",
    "*dataset* - This is the path to our image folder\n",
    "*imagePath* - Use the **imutils** import to set the path for our code\n",
    "*data* - The data list will hold all our image *feature vectors*.\n",
    "*labels* - The labels list will hold the corresponding labels"
   ],
   "cell_type": "markdown",
   "metadata": {}
  },
  {
   "cell_type": "code",
   "execution_count": 11,
   "metadata": {},
   "outputs": [],
   "source": [
    "# Set and initialize variables for later use\n",
    "dataset = \"Dataset\"\n",
    "imagePaths = paths.list_images(dataset)\n",
    "data = []\n",
    "labels = []"
   ]
  },
  {
   "source": [
    "## Our database\n",
    "\n",
    "Now that we have our path set, it is time to run the images through our previous **extract_color_statistics** function.\n",
    "\n",
    "The for loop will behave as such:\n",
    "\n",
    "* Load the input image\n",
    "* Compute and extract the channel stats\n",
    "* Add the data to the **data** list\n",
    "* Extract the label class from the path name\n",
    "* Update the labels list"
   ],
   "cell_type": "markdown",
   "metadata": {}
  },
  {
   "cell_type": "code",
   "execution_count": 12,
   "metadata": {},
   "outputs": [],
   "source": [
    "# loop over our input images\n",
    "for imagePath in imagePaths:\n",
    "    # Load the input image from disk\n",
    "    image = Image.open(imagePath)\n",
    "    # Extract the features\n",
    "    features = extract_color_stats(image)\n",
    "    data.append(features)\n",
    "    # extract the class label from the file path and update the\n",
    "    # labels list\n",
    "    label = imagePath.split(os.path.sep)[-2]\n",
    "    labels.append(label)"
   ]
  },
  {
   "source": [
    "## Our labels\n",
    "\n",
    "Now that the loop is completed, we need to encode our labels, converting them from strings to integers."
   ],
   "cell_type": "markdown",
   "metadata": {}
  },
  {
   "cell_type": "code",
   "execution_count": 13,
   "metadata": {},
   "outputs": [],
   "source": [
    "le = LabelEncoder()\n",
    "labels = le.fit_transform(labels)"
   ]
  },
  {
   "source": [],
   "cell_type": "markdown",
   "metadata": {}
  }
 ]
}